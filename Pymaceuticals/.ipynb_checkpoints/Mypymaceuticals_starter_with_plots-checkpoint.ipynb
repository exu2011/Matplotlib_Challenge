{
 "cells": [
  {
   "cell_type": "code",
   "execution_count": 1,
   "metadata": {},
   "outputs": [
    {
     "name": "stdout",
     "output_type": "stream",
     "text": [
      "The Zen of Python, by Tim Peters\n",
      "\n",
      "Beautiful is better than ugly.\n",
      "Explicit is better than implicit.\n",
      "Simple is better than complex.\n",
      "Complex is better than complicated.\n",
      "Flat is better than nested.\n",
      "Sparse is better than dense.\n",
      "Readability counts.\n",
      "Special cases aren't special enough to break the rules.\n",
      "Although practicality beats purity.\n",
      "Errors should never pass silently.\n",
      "Unless explicitly silenced.\n",
      "In the face of ambiguity, refuse the temptation to guess.\n",
      "There should be one-- and preferably only one --obvious way to do it.\n",
      "Although that way may not be obvious at first unless you're Dutch.\n",
      "Now is better than never.\n",
      "Although never is often better than *right* now.\n",
      "If the implementation is hard to explain, it's a bad idea.\n",
      "If the implementation is easy to explain, it may be a good idea.\n",
      "Namespaces are one honking great idea -- let's do more of those!\n"
     ]
    }
   ],
   "source": [
    "import this"
   ]
  },
  {
   "cell_type": "markdown",
   "metadata": {},
   "source": [
    "# Pymaceuticals Inc.\n",
    "---\n",
    "\n",
    "### Analysis\n",
    "* Overall, it is clear that Capomulin is a viable drug regimen to reduce tumor growth.\n",
    "* Capomulin had the most number of mice complete the study, with the exception of Remicane, all other regimens observed a number of mice deaths across the duration of the study. \n",
    "* There is a strong correlation between mouse weight and tumor volume, indicating that mouse weight may be contributing to the effectiveness of any drug regimen.\n",
    "* There was one potential outlier within the Infubinol regimen. While most mice showed tumor volume increase, there was one mouse that had a reduction in tumor growth in the study. "
   ]
  },
  {
   "cell_type": "code",
   "execution_count": 134,
   "metadata": {},
   "outputs": [
    {
     "data": {
      "text/html": [
       "<div>\n",
       "<style scoped>\n",
       "    .dataframe tbody tr th:only-of-type {\n",
       "        vertical-align: middle;\n",
       "    }\n",
       "\n",
       "    .dataframe tbody tr th {\n",
       "        vertical-align: top;\n",
       "    }\n",
       "\n",
       "    .dataframe thead th {\n",
       "        text-align: right;\n",
       "    }\n",
       "</style>\n",
       "<table border=\"1\" class=\"dataframe\">\n",
       "  <thead>\n",
       "    <tr style=\"text-align: right;\">\n",
       "      <th></th>\n",
       "      <th>Mouse ID</th>\n",
       "      <th>Drug Regimen</th>\n",
       "      <th>Sex</th>\n",
       "      <th>Age_months</th>\n",
       "      <th>Weight (g)</th>\n",
       "      <th>Timepoint</th>\n",
       "      <th>Tumor Volume (mm3)</th>\n",
       "      <th>Metastatic Sites</th>\n",
       "    </tr>\n",
       "  </thead>\n",
       "  <tbody>\n",
       "    <tr>\n",
       "      <th>0</th>\n",
       "      <td>k403</td>\n",
       "      <td>Ramicane</td>\n",
       "      <td>Male</td>\n",
       "      <td>21</td>\n",
       "      <td>16</td>\n",
       "      <td>0</td>\n",
       "      <td>45.000000</td>\n",
       "      <td>0</td>\n",
       "    </tr>\n",
       "    <tr>\n",
       "      <th>1</th>\n",
       "      <td>k403</td>\n",
       "      <td>Ramicane</td>\n",
       "      <td>Male</td>\n",
       "      <td>21</td>\n",
       "      <td>16</td>\n",
       "      <td>5</td>\n",
       "      <td>38.825898</td>\n",
       "      <td>0</td>\n",
       "    </tr>\n",
       "    <tr>\n",
       "      <th>2</th>\n",
       "      <td>k403</td>\n",
       "      <td>Ramicane</td>\n",
       "      <td>Male</td>\n",
       "      <td>21</td>\n",
       "      <td>16</td>\n",
       "      <td>10</td>\n",
       "      <td>35.014271</td>\n",
       "      <td>1</td>\n",
       "    </tr>\n",
       "  </tbody>\n",
       "</table>\n",
       "</div>"
      ],
      "text/plain": [
       "  Mouse ID Drug Regimen   Sex  Age_months  Weight (g)  Timepoint  \\\n",
       "0     k403     Ramicane  Male          21          16          0   \n",
       "1     k403     Ramicane  Male          21          16          5   \n",
       "2     k403     Ramicane  Male          21          16         10   \n",
       "\n",
       "   Tumor Volume (mm3)  Metastatic Sites  \n",
       "0           45.000000                 0  \n",
       "1           38.825898                 0  \n",
       "2           35.014271                 1  "
      ]
     },
     "execution_count": 134,
     "metadata": {},
     "output_type": "execute_result"
    }
   ],
   "source": [
    "# Dependencies and Setup\n",
    "import matplotlib.pyplot as plt\n",
    "import pandas as pd\n",
    "import scipy.stats as st\n",
    "import numpy as np\n",
    "from scipy.stats import linregress\n",
    "\n",
    "# Study data files\n",
    "mouse_metadata_path = \"data/Mouse_metadata.csv\"\n",
    "study_results_path = \"data/Study_results.csv\"\n",
    "\n",
    "# Read the mouse data and the study results\n",
    "mouse_metadata = pd.read_csv(mouse_metadata_path)\n",
    "study_results = pd.read_csv(study_results_path)\n",
    "study_results.head()\n",
    "\n",
    "# Combine the data into a single dataset\n",
    "Combined_data = pd.merge(mouse_metadata, study_results, on = \"Mouse ID\", how='outer')\n",
    "\n",
    "# Display the data table for preview\n",
    "Combined_data.head(3)\n"
   ]
  },
  {
   "cell_type": "code",
   "execution_count": 135,
   "metadata": {},
   "outputs": [
    {
     "data": {
      "text/plain": [
       "1893"
      ]
     },
     "execution_count": 135,
     "metadata": {},
     "output_type": "execute_result"
    }
   ],
   "source": [
    "# checking the number of total mice used including duplicates\n",
    "total_mice = len (Combined_data[\"Mouse ID\"])\n",
    "total_mice"
   ]
  },
  {
   "cell_type": "code",
   "execution_count": 136,
   "metadata": {},
   "outputs": [
    {
     "data": {
      "text/plain": [
       "249"
      ]
     },
     "execution_count": 136,
     "metadata": {},
     "output_type": "execute_result"
    }
   ],
   "source": [
    "# Checking the number of total mice.\n",
    "num_of_mice = len(Combined_data[\"Mouse ID\"].unique())\n",
    "num_of_mice"
   ]
  },
  {
   "cell_type": "code",
   "execution_count": 137,
   "metadata": {},
   "outputs": [
    {
     "data": {
      "text/plain": [
       "1"
      ]
     },
     "execution_count": 137,
     "metadata": {},
     "output_type": "execute_result"
    }
   ],
   "source": [
    "# Getting the duplicate mice by ID number that shows up for Mouse ID and Timepoint.  \n",
    "duplicate_mice = Combined_data.loc[Combined_data.duplicated(subset=['Mouse ID', 'Timepoint',]),'Mouse ID'].unique()\n",
    "num_duplicate_mice = len(duplicate_mice)\n",
    "num_duplicate_mice"
   ]
  },
  {
   "cell_type": "code",
   "execution_count": 138,
   "metadata": {},
   "outputs": [
    {
     "name": "stdout",
     "output_type": "stream",
     "text": [
      "Duplicate mice ID\n",
      "-------------------------------\n"
     ]
    },
    {
     "data": {
      "text/html": [
       "<div>\n",
       "<style scoped>\n",
       "    .dataframe tbody tr th:only-of-type {\n",
       "        vertical-align: middle;\n",
       "    }\n",
       "\n",
       "    .dataframe tbody tr th {\n",
       "        vertical-align: top;\n",
       "    }\n",
       "\n",
       "    .dataframe thead th {\n",
       "        text-align: right;\n",
       "    }\n",
       "</style>\n",
       "<table border=\"1\" class=\"dataframe\">\n",
       "  <thead>\n",
       "    <tr style=\"text-align: right;\">\n",
       "      <th></th>\n",
       "      <th>0</th>\n",
       "    </tr>\n",
       "  </thead>\n",
       "  <tbody>\n",
       "    <tr>\n",
       "      <th>0</th>\n",
       "      <td>g989</td>\n",
       "    </tr>\n",
       "  </tbody>\n",
       "</table>\n",
       "</div>"
      ],
      "text/plain": [
       "      0\n",
       "0  g989"
      ]
     },
     "execution_count": 138,
     "metadata": {},
     "output_type": "execute_result"
    }
   ],
   "source": [
    "# Optional: Get all the data for the duplicate mouse ID. \n",
    "all_duplicate_mouse_id=pd.DataFrame(duplicate_mice)\n",
    "print(\"Duplicate mice ID\")\n",
    "print (\"-------------------------------\")\n",
    "all_duplicate_mouse_id"
   ]
  },
  {
   "cell_type": "code",
   "execution_count": 139,
   "metadata": {},
   "outputs": [
    {
     "data": {
      "text/html": [
       "<div>\n",
       "<style scoped>\n",
       "    .dataframe tbody tr th:only-of-type {\n",
       "        vertical-align: middle;\n",
       "    }\n",
       "\n",
       "    .dataframe tbody tr th {\n",
       "        vertical-align: top;\n",
       "    }\n",
       "\n",
       "    .dataframe thead th {\n",
       "        text-align: right;\n",
       "    }\n",
       "</style>\n",
       "<table border=\"1\" class=\"dataframe\">\n",
       "  <thead>\n",
       "    <tr style=\"text-align: right;\">\n",
       "      <th></th>\n",
       "      <th>Mouse ID</th>\n",
       "      <th>Drug Regimen</th>\n",
       "      <th>Sex</th>\n",
       "      <th>Age_months</th>\n",
       "      <th>Weight (g)</th>\n",
       "      <th>Timepoint</th>\n",
       "      <th>Tumor Volume (mm3)</th>\n",
       "      <th>Metastatic Sites</th>\n",
       "    </tr>\n",
       "  </thead>\n",
       "  <tbody>\n",
       "    <tr>\n",
       "      <th>0</th>\n",
       "      <td>k403</td>\n",
       "      <td>Ramicane</td>\n",
       "      <td>Male</td>\n",
       "      <td>21</td>\n",
       "      <td>16</td>\n",
       "      <td>0</td>\n",
       "      <td>45.000000</td>\n",
       "      <td>0</td>\n",
       "    </tr>\n",
       "    <tr>\n",
       "      <th>1</th>\n",
       "      <td>k403</td>\n",
       "      <td>Ramicane</td>\n",
       "      <td>Male</td>\n",
       "      <td>21</td>\n",
       "      <td>16</td>\n",
       "      <td>5</td>\n",
       "      <td>38.825898</td>\n",
       "      <td>0</td>\n",
       "    </tr>\n",
       "    <tr>\n",
       "      <th>2</th>\n",
       "      <td>k403</td>\n",
       "      <td>Ramicane</td>\n",
       "      <td>Male</td>\n",
       "      <td>21</td>\n",
       "      <td>16</td>\n",
       "      <td>10</td>\n",
       "      <td>35.014271</td>\n",
       "      <td>1</td>\n",
       "    </tr>\n",
       "    <tr>\n",
       "      <th>3</th>\n",
       "      <td>k403</td>\n",
       "      <td>Ramicane</td>\n",
       "      <td>Male</td>\n",
       "      <td>21</td>\n",
       "      <td>16</td>\n",
       "      <td>15</td>\n",
       "      <td>34.223992</td>\n",
       "      <td>1</td>\n",
       "    </tr>\n",
       "    <tr>\n",
       "      <th>4</th>\n",
       "      <td>k403</td>\n",
       "      <td>Ramicane</td>\n",
       "      <td>Male</td>\n",
       "      <td>21</td>\n",
       "      <td>16</td>\n",
       "      <td>20</td>\n",
       "      <td>32.997729</td>\n",
       "      <td>1</td>\n",
       "    </tr>\n",
       "  </tbody>\n",
       "</table>\n",
       "</div>"
      ],
      "text/plain": [
       "  Mouse ID Drug Regimen   Sex  Age_months  Weight (g)  Timepoint  \\\n",
       "0     k403     Ramicane  Male          21          16          0   \n",
       "1     k403     Ramicane  Male          21          16          5   \n",
       "2     k403     Ramicane  Male          21          16         10   \n",
       "3     k403     Ramicane  Male          21          16         15   \n",
       "4     k403     Ramicane  Male          21          16         20   \n",
       "\n",
       "   Tumor Volume (mm3)  Metastatic Sites  \n",
       "0           45.000000                 0  \n",
       "1           38.825898                 0  \n",
       "2           35.014271                 1  \n",
       "3           34.223992                 1  \n",
       "4           32.997729                 1  "
      ]
     },
     "execution_count": 139,
     "metadata": {},
     "output_type": "execute_result"
    }
   ],
   "source": [
    "# Create a clean DataFrame/usable mice by dropping the duplicate mouse by its ID.\n",
    "usable_data = Combined_data[Combined_data['Mouse ID'].isin(duplicate_mice)==False]\n",
    "usable_data.head()\n"
   ]
  },
  {
   "cell_type": "code",
   "execution_count": 140,
   "metadata": {},
   "outputs": [
    {
     "name": "stdout",
     "output_type": "stream",
     "text": [
      "Number_of_Usable_Mice 248\n"
     ]
    }
   ],
   "source": [
    "# Checking the number of mice in the clean DataFrame.\n",
    "num_of_mice=len(usable_data['Mouse ID'].value_counts())\n",
    "num_of_mice\n",
    "print(\"Number_of_Usable_Mice\", num_of_mice)"
   ]
  },
  {
   "cell_type": "markdown",
   "metadata": {},
   "source": [
    "## Summary Statistics"
   ]
  },
  {
   "cell_type": "code",
   "execution_count": 141,
   "metadata": {
    "scrolled": true
   },
   "outputs": [
    {
     "data": {
      "text/plain": [
       "Drug Regimen\n",
       "Capomulin    0.329346\n",
       "Ceftamin     0.469821\n",
       "Infubinol    0.492236\n",
       "Ketapril     0.603860\n",
       "Naftisol     0.596466\n",
       "Placebo      0.581331\n",
       "Propriva     0.544332\n",
       "Ramicane     0.320955\n",
       "Stelasyn     0.573111\n",
       "Zoniferol    0.516398\n",
       "Name: Tumor Volume (mm3), dtype: float64"
      ]
     },
     "execution_count": 141,
     "metadata": {},
     "output_type": "execute_result"
    }
   ],
   "source": [
    "# Generate a summary statistics table of mean, median, variance, standard deviation, and SEM of the tumor volume for each regimen\n",
    "\n",
    "# Use groupby and summary statistical methods to calculate the following properties of each drug regimen: \n",
    "# mean, median, variance, standard deviation, and SEM of the tumor volume. \n",
    "# Assemble the resulting series into a single summary dataframe.\n",
    "\n",
    "drug_mean = usable_data.groupby('Drug Regimen').mean()[\"Tumor Volume (mm3)\"]\n",
    "drug_mean\n",
    "\n",
    "\n",
    "drug_median = usable_data.groupby('Drug Regimen').median()[\"Tumor Volume (mm3)\"]\n",
    "drug_median\n",
    "\n",
    "\n",
    "drug_variance = usable_data.groupby('Drug Regimen').var()[\"Tumor Volume (mm3)\"]\n",
    "drug_variance\n",
    "\n",
    "\n",
    "drug_std = usable_data.groupby('Drug Regimen').std()[\"Tumor Volume (mm3)\"]\n",
    "drug_std\n",
    "\n",
    "drug_sem = usable_data.groupby('Drug Regimen').sem()[\"Tumor Volume (mm3)\"]\n",
    "drug_sem"
   ]
  },
  {
   "cell_type": "code",
   "execution_count": 142,
   "metadata": {},
   "outputs": [
    {
     "data": {
      "text/html": [
       "<div>\n",
       "<style scoped>\n",
       "    .dataframe tbody tr th:only-of-type {\n",
       "        vertical-align: middle;\n",
       "    }\n",
       "\n",
       "    .dataframe tbody tr th {\n",
       "        vertical-align: top;\n",
       "    }\n",
       "\n",
       "    .dataframe thead th {\n",
       "        text-align: right;\n",
       "    }\n",
       "</style>\n",
       "<table border=\"1\" class=\"dataframe\">\n",
       "  <thead>\n",
       "    <tr style=\"text-align: right;\">\n",
       "      <th></th>\n",
       "      <th>Mean</th>\n",
       "      <th>Median</th>\n",
       "      <th>SEM</th>\n",
       "      <th>Standard Deviation</th>\n",
       "      <th>Variance</th>\n",
       "    </tr>\n",
       "    <tr>\n",
       "      <th>Drug Regimen</th>\n",
       "      <th></th>\n",
       "      <th></th>\n",
       "      <th></th>\n",
       "      <th></th>\n",
       "      <th></th>\n",
       "    </tr>\n",
       "  </thead>\n",
       "  <tbody>\n",
       "    <tr>\n",
       "      <th>Capomulin</th>\n",
       "      <td>40.675741</td>\n",
       "      <td>41.557809</td>\n",
       "      <td>0.329346</td>\n",
       "      <td>4.994774</td>\n",
       "      <td>24.947764</td>\n",
       "    </tr>\n",
       "    <tr>\n",
       "      <th>Ceftamin</th>\n",
       "      <td>52.591172</td>\n",
       "      <td>51.776157</td>\n",
       "      <td>0.469821</td>\n",
       "      <td>6.268188</td>\n",
       "      <td>39.290177</td>\n",
       "    </tr>\n",
       "    <tr>\n",
       "      <th>Infubinol</th>\n",
       "      <td>52.884795</td>\n",
       "      <td>51.820584</td>\n",
       "      <td>0.492236</td>\n",
       "      <td>6.567243</td>\n",
       "      <td>43.128684</td>\n",
       "    </tr>\n",
       "    <tr>\n",
       "      <th>Ketapril</th>\n",
       "      <td>55.235638</td>\n",
       "      <td>53.698743</td>\n",
       "      <td>0.603860</td>\n",
       "      <td>8.279709</td>\n",
       "      <td>68.553577</td>\n",
       "    </tr>\n",
       "    <tr>\n",
       "      <th>Naftisol</th>\n",
       "      <td>54.331565</td>\n",
       "      <td>52.509285</td>\n",
       "      <td>0.596466</td>\n",
       "      <td>8.134708</td>\n",
       "      <td>66.173479</td>\n",
       "    </tr>\n",
       "    <tr>\n",
       "      <th>Placebo</th>\n",
       "      <td>54.033581</td>\n",
       "      <td>52.288934</td>\n",
       "      <td>0.581331</td>\n",
       "      <td>7.821003</td>\n",
       "      <td>61.168083</td>\n",
       "    </tr>\n",
       "    <tr>\n",
       "      <th>Propriva</th>\n",
       "      <td>52.320930</td>\n",
       "      <td>50.446266</td>\n",
       "      <td>0.544332</td>\n",
       "      <td>6.622085</td>\n",
       "      <td>43.852013</td>\n",
       "    </tr>\n",
       "    <tr>\n",
       "      <th>Ramicane</th>\n",
       "      <td>40.216745</td>\n",
       "      <td>40.673236</td>\n",
       "      <td>0.320955</td>\n",
       "      <td>4.846308</td>\n",
       "      <td>23.486704</td>\n",
       "    </tr>\n",
       "    <tr>\n",
       "      <th>Stelasyn</th>\n",
       "      <td>54.233149</td>\n",
       "      <td>52.431737</td>\n",
       "      <td>0.573111</td>\n",
       "      <td>7.710419</td>\n",
       "      <td>59.450562</td>\n",
       "    </tr>\n",
       "    <tr>\n",
       "      <th>Zoniferol</th>\n",
       "      <td>53.236507</td>\n",
       "      <td>51.818479</td>\n",
       "      <td>0.516398</td>\n",
       "      <td>6.966589</td>\n",
       "      <td>48.533355</td>\n",
       "    </tr>\n",
       "  </tbody>\n",
       "</table>\n",
       "</div>"
      ],
      "text/plain": [
       "                   Mean     Median       SEM  Standard Deviation   Variance\n",
       "Drug Regimen                                                               \n",
       "Capomulin     40.675741  41.557809  0.329346            4.994774  24.947764\n",
       "Ceftamin      52.591172  51.776157  0.469821            6.268188  39.290177\n",
       "Infubinol     52.884795  51.820584  0.492236            6.567243  43.128684\n",
       "Ketapril      55.235638  53.698743  0.603860            8.279709  68.553577\n",
       "Naftisol      54.331565  52.509285  0.596466            8.134708  66.173479\n",
       "Placebo       54.033581  52.288934  0.581331            7.821003  61.168083\n",
       "Propriva      52.320930  50.446266  0.544332            6.622085  43.852013\n",
       "Ramicane      40.216745  40.673236  0.320955            4.846308  23.486704\n",
       "Stelasyn      54.233149  52.431737  0.573111            7.710419  59.450562\n",
       "Zoniferol     53.236507  51.818479  0.516398            6.966589  48.533355"
      ]
     },
     "execution_count": 142,
     "metadata": {},
     "output_type": "execute_result"
    }
   ],
   "source": [
    "# Generate a summary statistics table of mean, median, variance, standard deviation, and SEM of the tumor volume for each regimen\n",
    "# Using the aggregation method, produce the same summary statistics in a single line\n",
    "\n",
    "alldrugs_stats_table = pd.DataFrame({\"Mean\": drug_mean, \"Median\":drug_median, \"Variance\":drug_variance, \"Standard Deviation\": drug_std, \"SEM\": drug_sem})\n",
    "alldrugs_stats_table\n",
    "\n",
    "#alldrugs_stats_table.to_csv(\"fileOne.csv\", index=False, header=True)\n",
    "\n",
    "\n",
    "\n"
   ]
  },
  {
   "cell_type": "code",
   "execution_count": 143,
   "metadata": {},
   "outputs": [
    {
     "data": {
      "text/html": [
       "<div>\n",
       "<style scoped>\n",
       "    .dataframe tbody tr th:only-of-type {\n",
       "        vertical-align: middle;\n",
       "    }\n",
       "\n",
       "    .dataframe tbody tr th {\n",
       "        vertical-align: top;\n",
       "    }\n",
       "\n",
       "    .dataframe thead th {\n",
       "        text-align: right;\n",
       "    }\n",
       "</style>\n",
       "<table border=\"1\" class=\"dataframe\">\n",
       "  <thead>\n",
       "    <tr style=\"text-align: right;\">\n",
       "      <th></th>\n",
       "      <th>mean</th>\n",
       "      <th>median</th>\n",
       "      <th>var</th>\n",
       "      <th>std</th>\n",
       "      <th>sem</th>\n",
       "    </tr>\n",
       "    <tr>\n",
       "      <th>Drug Regimen</th>\n",
       "      <th></th>\n",
       "      <th></th>\n",
       "      <th></th>\n",
       "      <th></th>\n",
       "      <th></th>\n",
       "    </tr>\n",
       "  </thead>\n",
       "  <tbody>\n",
       "    <tr>\n",
       "      <th>Capomulin</th>\n",
       "      <td>40.675741</td>\n",
       "      <td>41.557809</td>\n",
       "      <td>24.947764</td>\n",
       "      <td>4.994774</td>\n",
       "      <td>0.329346</td>\n",
       "    </tr>\n",
       "    <tr>\n",
       "      <th>Ceftamin</th>\n",
       "      <td>52.591172</td>\n",
       "      <td>51.776157</td>\n",
       "      <td>39.290177</td>\n",
       "      <td>6.268188</td>\n",
       "      <td>0.469821</td>\n",
       "    </tr>\n",
       "    <tr>\n",
       "      <th>Infubinol</th>\n",
       "      <td>52.884795</td>\n",
       "      <td>51.820584</td>\n",
       "      <td>43.128684</td>\n",
       "      <td>6.567243</td>\n",
       "      <td>0.492236</td>\n",
       "    </tr>\n",
       "    <tr>\n",
       "      <th>Ketapril</th>\n",
       "      <td>55.235638</td>\n",
       "      <td>53.698743</td>\n",
       "      <td>68.553577</td>\n",
       "      <td>8.279709</td>\n",
       "      <td>0.603860</td>\n",
       "    </tr>\n",
       "    <tr>\n",
       "      <th>Naftisol</th>\n",
       "      <td>54.331565</td>\n",
       "      <td>52.509285</td>\n",
       "      <td>66.173479</td>\n",
       "      <td>8.134708</td>\n",
       "      <td>0.596466</td>\n",
       "    </tr>\n",
       "    <tr>\n",
       "      <th>Placebo</th>\n",
       "      <td>54.033581</td>\n",
       "      <td>52.288934</td>\n",
       "      <td>61.168083</td>\n",
       "      <td>7.821003</td>\n",
       "      <td>0.581331</td>\n",
       "    </tr>\n",
       "    <tr>\n",
       "      <th>Propriva</th>\n",
       "      <td>52.320930</td>\n",
       "      <td>50.446266</td>\n",
       "      <td>43.852013</td>\n",
       "      <td>6.622085</td>\n",
       "      <td>0.544332</td>\n",
       "    </tr>\n",
       "    <tr>\n",
       "      <th>Ramicane</th>\n",
       "      <td>40.216745</td>\n",
       "      <td>40.673236</td>\n",
       "      <td>23.486704</td>\n",
       "      <td>4.846308</td>\n",
       "      <td>0.320955</td>\n",
       "    </tr>\n",
       "    <tr>\n",
       "      <th>Stelasyn</th>\n",
       "      <td>54.233149</td>\n",
       "      <td>52.431737</td>\n",
       "      <td>59.450562</td>\n",
       "      <td>7.710419</td>\n",
       "      <td>0.573111</td>\n",
       "    </tr>\n",
       "    <tr>\n",
       "      <th>Zoniferol</th>\n",
       "      <td>53.236507</td>\n",
       "      <td>51.818479</td>\n",
       "      <td>48.533355</td>\n",
       "      <td>6.966589</td>\n",
       "      <td>0.516398</td>\n",
       "    </tr>\n",
       "  </tbody>\n",
       "</table>\n",
       "</div>"
      ],
      "text/plain": [
       "                   mean     median        var       std       sem\n",
       "Drug Regimen                                                     \n",
       "Capomulin     40.675741  41.557809  24.947764  4.994774  0.329346\n",
       "Ceftamin      52.591172  51.776157  39.290177  6.268188  0.469821\n",
       "Infubinol     52.884795  51.820584  43.128684  6.567243  0.492236\n",
       "Ketapril      55.235638  53.698743  68.553577  8.279709  0.603860\n",
       "Naftisol      54.331565  52.509285  66.173479  8.134708  0.596466\n",
       "Placebo       54.033581  52.288934  61.168083  7.821003  0.581331\n",
       "Propriva      52.320930  50.446266  43.852013  6.622085  0.544332\n",
       "Ramicane      40.216745  40.673236  23.486704  4.846308  0.320955\n",
       "Stelasyn      54.233149  52.431737  59.450562  7.710419  0.573111\n",
       "Zoniferol     53.236507  51.818479  48.533355  6.966589  0.516398"
      ]
     },
     "execution_count": 143,
     "metadata": {},
     "output_type": "execute_result"
    }
   ],
   "source": [
    "# This method produces everything in a single groupby function\n",
    "single_group_by = usable_data.groupby('Drug Regimen')\n",
    "alldrug_stats_table_2 = single_group_by.agg(['mean','median','var','std','sem'])[\"Tumor Volume (mm3)\"]\n",
    "alldrug_stats_table_2"
   ]
  },
  {
   "cell_type": "markdown",
   "metadata": {},
   "source": [
    "## Bar and Pie Charts"
   ]
  },
  {
   "cell_type": "code",
   "execution_count": 144,
   "metadata": {},
   "outputs": [
    {
     "data": {
      "image/png": "[encoded data removed]",
      "text/plain": [
       "<matplotlib.figure.Figure at 0x1a12787da0>"
      ]
     },
     "metadata": {},
     "output_type": "display_data"
    },
    {
     "data": {
      "text/plain": [
       "Drug Regimen\n",
       "Capomulin    230\n",
       "Ceftamin     178\n",
       "Infubinol    178\n",
       "Ketapril     188\n",
       "Naftisol     186\n",
       "Placebo      181\n",
       "Propriva     148\n",
       "Ramicane     228\n",
       "Stelasyn     181\n",
       "Zoniferol    182\n",
       "Name: Mouse ID, dtype: int64"
      ]
     },
     "execution_count": 144,
     "metadata": {},
     "output_type": "execute_result"
    }
   ],
   "source": [
    "# Generate a bar plot showing the total number of mice for each treatment regimen using pandas Dataframe.plot().\n",
    "measurements_per_drug = usable_data.groupby([\"Drug Regimen\"]).count()[\"Mouse ID\"] \n",
    "\n",
    "plot_pandas = measurements_per_drug.plot.bar(figsize=(15,8), color='b',fontsize = 14)\n",
    "measurements_per_drug\n",
    "plt.xlabel(\"Drug Regimen\",fontsize = 14)\n",
    "plt.ylabel(\"Measurements\",fontsize = 14)\n",
    "plt.title(\"Measurements per Regimen\",fontsize = 20)\n",
    "\n",
    "plt.savefig(\"../Images/Pan_mice_per_treat.png\", bbox_inches = \"tight\")\n",
    "plt.tight_layout()\n",
    "plt.show()\n",
    "\n",
    "measurements_per_drug"
   ]
  },
  {
   "cell_type": "code",
   "execution_count": 145,
   "metadata": {},
   "outputs": [
    {
     "data": {
      "image/png": "[encoded data removed]",
      "text/plain": [
       "<matplotlib.figure.Figure at 0x108009240>"
      ]
     },
     "metadata": {},
     "output_type": "display_data"
    },
    {
     "data": {
      "text/plain": [
       "<matplotlib.figure.Figure at 0x1a12b814e0>"
      ]
     },
     "metadata": {},
     "output_type": "display_data"
    }
   ],
   "source": [
    "# Generate a bar plot showing the total number of mice for each treatment regimen using using using pyplot.\n",
    "##plt.style.use('seaborn-dark-palette')\n",
    "\n",
    "## Set x axis and tick locations\n",
    "x_axis = np.arange(len(measurements_per_drug))\n",
    "\n",
    "## Call matplotlib.pyplot to draw histogram\n",
    "plt.bar(x_axis, measurements_per_drug, color='b', alpha=0.5, align=\"center\")\n",
    "\n",
    "## Tell matplotlib where we would like to place each of our x axis headers\n",
    "tick_locations = [value for value in x_axis]\n",
    "plt.xticks(tick_locations, measurements_per_drug.index)\n",
    "\n",
    "## Rotates X-Axis Ticks by 90-degrees\n",
    "plt.xticks(rotation = 90) \n",
    "\n",
    "plt.xlim(-0.75, len(x_axis)-0.25)\n",
    "plt.ylim(0, max(measurements_per_drug)+10)\n",
    "\n",
    "plt.title(\"Total No. of Measurements Per Regimen\",fontsize = 15)\n",
    "plt.xlabel(\"Drug Regimen\",fontsize = 10)\n",
    "plt.ylabel(\"Total Number of Measurements\",fontsize = 10)\n",
    "plt.legend(['Measurement']) \n",
    "\n",
    "plt.show()\n",
    "plt.tight_layout()"
   ]
  },
  {
   "cell_type": "code",
   "execution_count": 146,
   "metadata": {},
   "outputs": [
    {
     "name": "stdout",
     "output_type": "stream",
     "text": [
      "Drug Regimen\n",
      "Capomulin    230\n",
      "Ramicane     228\n",
      "Ketapril     188\n",
      "Naftisol     186\n",
      "Zoniferol    182\n",
      "Stelasyn     181\n",
      "Placebo      181\n",
      "Infubinol    178\n",
      "Ceftamin     178\n",
      "Propriva     148\n",
      "Name: Mouse ID, dtype: int64\n"
     ]
    }
   ],
   "source": [
    "# Generate a bar plot showing the total number of mice for each treatment regimen using using using pyplot.\n",
    "\n",
    "tot_measure_per_drug = usable_data.groupby(\"Drug Regimen\").count()['Mouse ID'].sort_values(ascending=False)\n",
    "print(tot_measure_per_drug) "
   ]
  },
  {
   "cell_type": "code",
   "execution_count": 147,
   "metadata": {},
   "outputs": [
    {
     "data": {
      "image/png": "[encoded data removed]",
      "text/plain": [
       "<matplotlib.figure.Figure at 0x1a1275a710>"
      ]
     },
     "metadata": {},
     "output_type": "display_data"
    }
   ],
   "source": [
    "# Generate a pie plot showing the distribution of female versus male mice using pandas\n",
    "tot_measure_per_drug.plot(kind=\"bar\", color=\"blue\", figsize=(7,4), legend=True)\n",
    "\n",
    "# Set a title, x-label, and y-label for the chart\n",
    "plt.title(\"Total No. of Measurements Per Drug Regimen\")\n",
    "plt.ylabel(\"Total Number of Measurements\")\n",
    "plt.legend(['Measurement']);\n",
    "plt.tight_layout()\n",
    "plt.show()"
   ]
  },
  {
   "cell_type": "code",
   "execution_count": 148,
   "metadata": {},
   "outputs": [
    {
     "data": {
      "image/png": "[encoded data removed]",
      "text/plain": [
       "<matplotlib.figure.Figure at 0x1a1275a4e0>"
      ]
     },
     "metadata": {},
     "output_type": "display_data"
    }
   ],
   "source": [
    "# Generate a pie plot showing the distribution of female versus male mice using pyplot\n",
    "##plt.style.use('seaborn-dark-palette')\n",
    "\n",
    "## Set x axis and tick locations\n",
    "x_axis = np.arange(len(tot_measure_per_drug))\n",
    "\n",
    "## Call matplotlib.pyplot to draw histogram\n",
    "plt.bar(x_axis, tot_measure_per_drug, color='b', alpha=0.5, align=\"center\")\n",
    "\n",
    "## Tell matplotlib where we would like to place each of our x axis headers\n",
    "tick_locations = [value for value in x_axis]\n",
    "plt.xticks(tick_locations, tot_measure_per_drug.index)\n",
    "\n",
    "## Rotates X-Axis Ticks by 90-degrees\n",
    "plt.xticks(rotation = 90) \n",
    "\n",
    "plt.xlim(-0.75, len(x_axis)-0.25)\n",
    "plt.ylim(0, max(tot_measure_per_drug)+10)\n",
    "\n",
    "plt.title(\"Total No. of Measurements Per Drug Regimen\",fontsize = 15)\n",
    "plt.xlabel(\"Drug Regimen\",fontsize = 10)\n",
    "plt.ylabel(\"Total Number of Measurements\",fontsize = 10)\n",
    "plt.legend(['Measurement']) \n",
    "\n",
    "plt.tight_layout()\n",
    "plt.show()"
   ]
  },
  {
   "cell_type": "code",
   "execution_count": 149,
   "metadata": {},
   "outputs": [],
   "source": [
    "## Group by gender and get the counts for plotting\n",
    "groupby_male_female = usable_data.groupby([\"Mouse ID\",\"Sex\"])\n",
    "##print(groupby_male_female.size())\n",
    "male_fem_mea_cnt_df = pd.DataFrame(groupby_male_female.size())"
   ]
  },
  {
   "cell_type": "code",
   "execution_count": 150,
   "metadata": {},
   "outputs": [
    {
     "name": "stdout",
     "output_type": "stream",
     "text": [
      "Sex\n",
      "Female    922\n",
      "Male      958\n",
      "Name: Total Count, dtype: int64\n"
     ]
    }
   ],
   "source": [
    "# Create the dataframe with total count of Female and Male mice' measurement\n",
    "mea_cnt_by_gender = pd.DataFrame(male_fem_mea_cnt_df.groupby([\"Sex\"]).sum())\n",
    "mea_cnt_by_gender.columns = [\"Total Count\"]\n",
    "print(mea_cnt_by_gender[\"Total Count\"])"
   ]
  },
  {
   "cell_type": "code",
   "execution_count": 151,
   "metadata": {},
   "outputs": [
    {
     "name": "stdout",
     "output_type": "stream",
     "text": [
      "        Total Count  Percentage of Sex\n",
      "Sex                                   \n",
      "Female          922             49.043\n",
      "Male            958             50.957\n"
     ]
    }
   ],
   "source": [
    "# create and format the percentage of female vs male\n",
    "tot_measurements = mea_cnt_by_gender[\"Total Count\"].sum()\n",
    "mea_cnt_by_gender[\"Percentage of Sex\"] = 100*(mea_cnt_by_gender[\"Total Count\"] / tot_measurements)\n",
    "\n",
    "# format the \"Percentage of Sex\" column\n",
    "mea_cnt_by_gender[\"Percentage of Sex\"] = round(mea_cnt_by_gender[\"Percentage of Sex\"], 3)\n",
    "print(mea_cnt_by_gender)"
   ]
  },
  {
   "cell_type": "code",
   "execution_count": 152,
   "metadata": {},
   "outputs": [],
   "source": [
    "# Labels for the sections of our pie chart\n",
    "## labels = [\"Female\", \"Male\"]\n",
    "\n",
    "# The colors of each section of the pie chart\n",
    "colors = [\"lightcoral\", \"green\"]\n",
    "explode = (0, 0)"
   ]
  },
  {
   "cell_type": "code",
   "execution_count": 153,
   "metadata": {},
   "outputs": [
    {
     "data": {
      "image/png": "[encoded data removed]",
      "text/plain": [
       "<matplotlib.figure.Figure at 0x1a12693ac8>"
      ]
     },
     "metadata": {},
     "output_type": "display_data"
    }
   ],
   "source": [
    "# Creates the pie chart based upon the values above\n",
    "# Automatically finds the percentages of each part of the pie chart\n",
    "mea_cnt_by_gender.plot(kind='pie', y='Percentage of Sex', explode = explode, figsize=(7, 5), autopct=\"%1.1f%%\", colors=colors, startangle=180, legend=True)\n",
    "\n",
    "# Tells matplotlib that we want a pie chart with equal axes\n",
    "plt.axis(\"equal\")\n",
    "\n",
    "# Set a title, x-label, and y-label for the chart\n",
    "plt.title(\"Male vs Femable Mice on Total Measurements\")\n",
    "plt.ylabel(\"Sex\")\n",
    "plt.tight_layout()\n",
    "plt.show()"
   ]
  },
  {
   "cell_type": "code",
   "execution_count": null,
   "metadata": {},
   "outputs": [],
   "source": []
  },
  {
   "cell_type": "markdown",
   "metadata": {},
   "source": [
    "## Quartiles, Outliers and Boxplots"
   ]
  },
  {
   "cell_type": "code",
   "execution_count": 154,
   "metadata": {},
   "outputs": [],
   "source": [
    "# Calculate the final tumor volume of each mouse across four of the treatment regimens:  \n",
    "# Create empty list to fill with tumor vol data (for plotting)\n",
    "# Calculate the IQR and quantitatively determine if there are any potential outliers.  \n",
    "    # Locate the rows which contain mice on each drug and get the tumor volume    \n",
    "    # add subset     \n",
    "    # Determine outliers using upper and lower bounds\n",
    "# Capomulin, Ramicane, Infubinol, and Ceftamin\n",
    "\n",
    "## Create one dataframe for each of the 4 regimens\n",
    "Capomulin_df = usable_data.loc[usable_data[\"Drug Regimen\"] == \"Capomulin\",:]\n",
    "Ramicane_df = usable_data.loc[usable_data[\"Drug Regimen\"] == \"Ramicane\", :]\n",
    "Infubinol_df = usable_data.loc[usable_data[\"Drug Regimen\"] == \"Infubinol\", :]\n",
    "Ceftamin_df = usable_data.loc[usable_data[\"Drug Regimen\"] == \"Ceftamin\", :]\n",
    "\n",
    "## Process each drug related data in the following sections"
   ]
  },
  {
   "cell_type": "code",
   "execution_count": 155,
   "metadata": {},
   "outputs": [
    {
     "name": "stdout",
     "output_type": "stream",
     "text": [
      "     Mouse ID Drug Regimen     Sex  Age_months  Weight (g)  Timepoint  \\\n",
      "10       s185    Capomulin  Female           3          17          0   \n",
      "11       s185    Capomulin  Female           3          17          5   \n",
      "12       s185    Capomulin  Female           3          17         10   \n",
      "13       s185    Capomulin  Female           3          17         15   \n",
      "14       s185    Capomulin  Female           3          17         20   \n",
      "15       s185    Capomulin  Female           3          17         25   \n",
      "16       s185    Capomulin  Female           3          17         30   \n",
      "17       s185    Capomulin  Female           3          17         35   \n",
      "18       s185    Capomulin  Female           3          17         40   \n",
      "19       s185    Capomulin  Female           3          17         45   \n",
      "20       x401    Capomulin  Female          16          15          0   \n",
      "21       x401    Capomulin  Female          16          15          5   \n",
      "22       x401    Capomulin  Female          16          15         10   \n",
      "23       x401    Capomulin  Female          16          15         15   \n",
      "24       x401    Capomulin  Female          16          15         20   \n",
      "25       x401    Capomulin  Female          16          15         25   \n",
      "26       x401    Capomulin  Female          16          15         30   \n",
      "27       x401    Capomulin  Female          16          15         35   \n",
      "28       x401    Capomulin  Female          16          15         40   \n",
      "29       x401    Capomulin  Female          16          15         45   \n",
      "30       m601    Capomulin    Male          22          17          0   \n",
      "31       m601    Capomulin    Male          22          17          5   \n",
      "32       m601    Capomulin    Male          22          17         10   \n",
      "33       m601    Capomulin    Male          22          17         15   \n",
      "34       m601    Capomulin    Male          22          17         20   \n",
      "35       m601    Capomulin    Male          22          17         25   \n",
      "36       m601    Capomulin    Male          22          17         30   \n",
      "37       m601    Capomulin    Male          22          17         35   \n",
      "38       m601    Capomulin    Male          22          17         40   \n",
      "39       m601    Capomulin    Male          22          17         45   \n",
      "...       ...          ...     ...         ...         ...        ...   \n",
      "375      l509    Capomulin    Male          17          21         20   \n",
      "376      l509    Capomulin    Male          17          21         25   \n",
      "377      l509    Capomulin    Male          17          21         30   \n",
      "378      l509    Capomulin    Male          17          21         35   \n",
      "379      l509    Capomulin    Male          17          21         40   \n",
      "380      l509    Capomulin    Male          17          21         45   \n",
      "381      r944    Capomulin    Male          12          25          0   \n",
      "382      r944    Capomulin    Male          12          25          5   \n",
      "383      r944    Capomulin    Male          12          25         10   \n",
      "384      r944    Capomulin    Male          12          25         15   \n",
      "385      r944    Capomulin    Male          12          25         20   \n",
      "386      r944    Capomulin    Male          12          25         25   \n",
      "387      r944    Capomulin    Male          12          25         30   \n",
      "388      r944    Capomulin    Male          12          25         35   \n",
      "389      r944    Capomulin    Male          12          25         40   \n",
      "390      r944    Capomulin    Male          12          25         45   \n",
      "431      i557    Capomulin  Female           1          24          0   \n",
      "432      i557    Capomulin  Female           1          24          5   \n",
      "433      i557    Capomulin  Female           1          24         10   \n",
      "434      i557    Capomulin  Female           1          24         15   \n",
      "435      i557    Capomulin  Female           1          24         20   \n",
      "436      i557    Capomulin  Female           1          24         25   \n",
      "437      i557    Capomulin  Female           1          24         30   \n",
      "438      i557    Capomulin  Female           1          24         35   \n",
      "439      i557    Capomulin  Female           1          24         40   \n",
      "440      i557    Capomulin  Female           1          24         45   \n",
      "1452     r157    Capomulin    Male          22          25          0   \n",
      "1453     r157    Capomulin    Male          22          25          5   \n",
      "1454     r157    Capomulin    Male          22          25         10   \n",
      "1455     r157    Capomulin    Male          22          25         15   \n",
      "\n",
      "      Tumor Volume (mm3)  Metastatic Sites  \n",
      "10             45.000000                 0  \n",
      "11             43.878496                 0  \n",
      "12             37.614948                 0  \n",
      "13             38.177232                 0  \n",
      "14             36.866876                 0  \n",
      "15             33.949940                 0  \n",
      "16             32.959671                 1  \n",
      "17             28.328531                 1  \n",
      "18             25.472143                 1  \n",
      "19             23.343598                 1  \n",
      "20             45.000000                 0  \n",
      "21             45.473753                 0  \n",
      "22             39.113891                 0  \n",
      "23             39.776250                 0  \n",
      "24             36.065835                 0  \n",
      "25             36.617120                 0  \n",
      "26             32.915292                 0  \n",
      "27             30.206825                 0  \n",
      "28             28.167397                 0  \n",
      "29             28.484033                 0  \n",
      "30             45.000000                 0  \n",
      "31             41.408591                 1  \n",
      "32             36.825367                 1  \n",
      "33             35.464612                 1  \n",
      "34             34.255732                 1  \n",
      "35             33.118756                 1  \n",
      "36             31.758275                 1  \n",
      "37             30.834357                 1  \n",
      "38             31.378045                 1  \n",
      "39             28.430964                 1  \n",
      "...                  ...               ...  \n",
      "375            48.070452                 2  \n",
      "376            44.006257                 2  \n",
      "377            44.708055                 2  \n",
      "378            40.207289                 2  \n",
      "379            40.770813                 2  \n",
      "380            41.483008                 3  \n",
      "381            45.000000                 0  \n",
      "382            45.737145                 0  \n",
      "383            46.544292                 0  \n",
      "384            47.373423                 0  \n",
      "385            43.225671                 1  \n",
      "386            41.086991                 1  \n",
      "387            41.680791                 1  \n",
      "388            40.401765                 2  \n",
      "389            41.042045                 2  \n",
      "390            41.581521                 2  \n",
      "431            45.000000                 0  \n",
      "432            42.261665                 0  \n",
      "433            42.992077                 0  \n",
      "434            43.529876                 0  \n",
      "435            43.967895                 0  \n",
      "436            44.596219                 0  \n",
      "437            45.261384                 0  \n",
      "438            45.941949                 0  \n",
      "439            46.821070                 1  \n",
      "440            47.685963                 1  \n",
      "1452           45.000000                 0  \n",
      "1453           45.597064                 0  \n",
      "1454           46.059608                 0  \n",
      "1455           46.539206                 0  \n",
      "\n",
      "[230 rows x 8 columns]\n"
     ]
    }
   ],
   "source": [
    "print(Capomulin_df)"
   ]
  },
  {
   "cell_type": "code",
   "execution_count": 156,
   "metadata": {},
   "outputs": [
    {
     "data": {
      "text/html": [
       "<div>\n",
       "<style scoped>\n",
       "    .dataframe tbody tr th:only-of-type {\n",
       "        vertical-align: middle;\n",
       "    }\n",
       "\n",
       "    .dataframe tbody tr th {\n",
       "        vertical-align: top;\n",
       "    }\n",
       "\n",
       "    .dataframe thead th {\n",
       "        text-align: right;\n",
       "    }\n",
       "</style>\n",
       "<table border=\"1\" class=\"dataframe\">\n",
       "  <thead>\n",
       "    <tr style=\"text-align: right;\">\n",
       "      <th></th>\n",
       "      <th>Mouse ID</th>\n",
       "      <th>Timepoint</th>\n",
       "    </tr>\n",
       "  </thead>\n",
       "  <tbody>\n",
       "    <tr>\n",
       "      <th>0</th>\n",
       "      <td>b128</td>\n",
       "      <td>45</td>\n",
       "    </tr>\n",
       "    <tr>\n",
       "      <th>1</th>\n",
       "      <td>b742</td>\n",
       "      <td>45</td>\n",
       "    </tr>\n",
       "    <tr>\n",
       "      <th>2</th>\n",
       "      <td>f966</td>\n",
       "      <td>20</td>\n",
       "    </tr>\n",
       "    <tr>\n",
       "      <th>3</th>\n",
       "      <td>g288</td>\n",
       "      <td>45</td>\n",
       "    </tr>\n",
       "    <tr>\n",
       "      <th>4</th>\n",
       "      <td>g316</td>\n",
       "      <td>45</td>\n",
       "    </tr>\n",
       "    <tr>\n",
       "      <th>5</th>\n",
       "      <td>i557</td>\n",
       "      <td>45</td>\n",
       "    </tr>\n",
       "    <tr>\n",
       "      <th>6</th>\n",
       "      <td>i738</td>\n",
       "      <td>45</td>\n",
       "    </tr>\n",
       "    <tr>\n",
       "      <th>7</th>\n",
       "      <td>j119</td>\n",
       "      <td>45</td>\n",
       "    </tr>\n",
       "    <tr>\n",
       "      <th>8</th>\n",
       "      <td>j246</td>\n",
       "      <td>35</td>\n",
       "    </tr>\n",
       "    <tr>\n",
       "      <th>9</th>\n",
       "      <td>l509</td>\n",
       "      <td>45</td>\n",
       "    </tr>\n",
       "  </tbody>\n",
       "</table>\n",
       "</div>"
      ],
      "text/plain": [
       "  Mouse ID  Timepoint\n",
       "0     b128         45\n",
       "1     b742         45\n",
       "2     f966         20\n",
       "3     g288         45\n",
       "4     g316         45\n",
       "5     i557         45\n",
       "6     i738         45\n",
       "7     j119         45\n",
       "8     j246         35\n",
       "9     l509         45"
      ]
     },
     "execution_count": 156,
     "metadata": {},
     "output_type": "execute_result"
    }
   ],
   "source": [
    "## Drug 1: Capomulin\n",
    "# Start by getting the last (greatest) timepoint for each mouse\n",
    "Capomulin_last_timept_ser = Capomulin_df.groupby(['Mouse ID'])['Timepoint'].max()\n",
    "Capomulin_last_timept_ser = Capomulin_last_timept_ser.reset_index()\n",
    "Capomulin_last_timept_ser.head(10)\n",
    "##type(Capomulin_last_timept_ser)"
   ]
  },
  {
   "cell_type": "code",
   "execution_count": 157,
   "metadata": {},
   "outputs": [],
   "source": [
    "## Create a df with Mouse ID and last Timepoints series\n",
    "Capomulin_mouseId_last_timept_df = pd.DataFrame(Capomulin_last_timept_ser)\n",
    "\n",
    "##Capomulin_mouseId_last_timept_df.reset_index() \n",
    "#Capomulin_mouseId_last_timept_df.info()\n",
    "#Capomulin_mouseId_last_timept_df['Mouse ID']\n",
    "# Capomulin_mouseId_last_timept_df.head(3)"
   ]
  },
  {
   "cell_type": "code",
   "execution_count": 158,
   "metadata": {},
   "outputs": [
    {
     "name": "stdout",
     "output_type": "stream",
     "text": [
      "<class 'pandas.core.frame.DataFrame'>\n",
      "RangeIndex: 25 entries, 0 to 24\n",
      "Data columns (total 2 columns):\n",
      "Mouse ID     25 non-null object\n",
      "Timepoint    25 non-null int64\n",
      "dtypes: int64(1), object(1)\n",
      "memory usage: 480.0+ bytes\n"
     ]
    }
   ],
   "source": [
    "Capomulin_mouseId_last_timept_df.info()"
   ]
  },
  {
   "cell_type": "code",
   "execution_count": 159,
   "metadata": {},
   "outputs": [
    {
     "data": {
      "text/plain": [
       "25"
      ]
     },
     "execution_count": 159,
     "metadata": {},
     "output_type": "execute_result"
    }
   ],
   "source": [
    "#clean_mouse_df\n",
    "# Merge this group df with the original dataframe to get the tumor volume at the last timepoint\n",
    "Capomulin_merge_df = pd.merge(Capomulin_mouseId_last_timept_df, usable_data, on=(['Mouse ID','Timepoint']), how='left')\n",
    "\n",
    "Capomulin_merge_df\n",
    "len(Capomulin_merge_df['Mouse ID'])"
   ]
  },
  {
   "cell_type": "code",
   "execution_count": 160,
   "metadata": {},
   "outputs": [],
   "source": [
    "# it will be better if we could aggregate the tumor volume under different  time point for  each  regimen."
   ]
  },
  {
   "cell_type": "code",
   "execution_count": 161,
   "metadata": {},
   "outputs": [
    {
     "name": "stdout",
     "output_type": "stream",
     "text": [
      "The lower quartile of Capomulin tumor volumes: 32.37735684\n",
      "The upper quartile of Capomulin tumor volumes: 40.1592203\n",
      "The interquartile range of Capomulin tumor volumes: 7.781863460000004\n",
      "The median of Capomulin tumors: 38.125164399999996 \n",
      "Values below 20.70456164999999 could be outliers.\n",
      "Values above 51.83201549 could be outliers.\n"
     ]
    }
   ],
   "source": [
    "# Drug 1 continued: Capomulin: Calculate the IQR and quantitatively determine if there are any potential outliers. \n",
    "# Determine outliers using upper and lower bounds\n",
    "Capomulin_tumor_vols = Capomulin_merge_df[\"Tumor Volume (mm3)\"]\n",
    "\n",
    "## Since the data is in a dataframe, use pandas to give quartile calculations\n",
    "quartiles = Capomulin_tumor_vols.quantile([.25,.5,.75])\n",
    "lowerq = quartiles[0.25]\n",
    "upperq = quartiles[0.75]\n",
    "iqr = upperq-lowerq\n",
    "\n",
    "print(f\"The lower quartile of Capomulin tumor volumes: {lowerq}\")\n",
    "print(f\"The upper quartile of Capomulin tumor volumes: {upperq}\")\n",
    "print(f\"The interquartile range of Capomulin tumor volumes: {iqr}\")\n",
    "print(f\"The median of Capomulin tumors: {quartiles[0.5]} \")\n",
    "\n",
    "lower_bound = lowerq - (1.5*iqr)\n",
    "upper_bound = upperq + (1.5*iqr)\n",
    "\n",
    "\n",
    "print(f\"Values below {lower_bound} could be outliers.\")\n",
    "print(f\"Values above {upper_bound} could be outliers.\")"
   ]
  },
  {
   "cell_type": "code",
   "execution_count": 162,
   "metadata": {},
   "outputs": [
    {
     "data": {
      "text/html": [
       "<div>\n",
       "<style scoped>\n",
       "    .dataframe tbody tr th:only-of-type {\n",
       "        vertical-align: middle;\n",
       "    }\n",
       "\n",
       "    .dataframe tbody tr th {\n",
       "        vertical-align: top;\n",
       "    }\n",
       "\n",
       "    .dataframe thead th {\n",
       "        text-align: right;\n",
       "    }\n",
       "</style>\n",
       "<table border=\"1\" class=\"dataframe\">\n",
       "  <thead>\n",
       "    <tr style=\"text-align: right;\">\n",
       "      <th></th>\n",
       "      <th>Mouse ID</th>\n",
       "      <th>Timepoint</th>\n",
       "      <th>Drug Regimen</th>\n",
       "      <th>Sex</th>\n",
       "      <th>Age_months</th>\n",
       "      <th>Weight (g)</th>\n",
       "      <th>Tumor Volume (mm3)</th>\n",
       "      <th>Metastatic Sites</th>\n",
       "    </tr>\n",
       "  </thead>\n",
       "  <tbody>\n",
       "  </tbody>\n",
       "</table>\n",
       "</div>"
      ],
      "text/plain": [
       "Empty DataFrame\n",
       "Columns: [Mouse ID, Timepoint, Drug Regimen, Sex, Age_months, Weight (g), Tumor Volume (mm3), Metastatic Sites]\n",
       "Index: []"
      ]
     },
     "execution_count": 162,
     "metadata": {},
     "output_type": "execute_result"
    }
   ],
   "source": [
    "# Drug 1: Continued -  Determine outliers using upper and lower bounds\n",
    "Capomulin_merge_df.head()\n",
    "Capomulin_outlier = Capomulin_merge_df.loc[(Capomulin_merge_df['Tumor Volume (mm3)'] < lower_bound) | (Capomulin_merge_df['Tumor Volume (mm3)'] > upper_bound), :]\n",
    "Capomulin_outlier\n",
    "#print(f\"lower = {lower_bound}, upp = {upper_bound}\")"
   ]
  },
  {
   "cell_type": "code",
   "execution_count": 163,
   "metadata": {},
   "outputs": [],
   "source": [
    "## Drug 2: Ramicane\n",
    "# Start by getting the last (greatest) timepoint for each mouse\n",
    "Ramicane_last_timept_ser = Ramicane_df.groupby(['Mouse ID'])['Timepoint'].max()\n",
    "Ramicane_last_timept_ser = Ramicane_last_timept_ser.reset_index()\n",
    "Ramicane_last_timept_ser.head(3)\n",
    "## Create a df with Mouse ID and last Timepoints series\n",
    "Ramicane_mouseId_last_timept_df = pd.DataFrame(Ramicane_last_timept_ser)\n",
    "\n",
    "# Merge this group df with the original dataframe to get the tumor volume at the last timepoint\n",
    "Ramicane_merge_df = pd.merge(Ramicane_mouseId_last_timept_df, Combined_data, on=(\"Mouse ID\",\"Timepoint\"), how=\"left\")\n",
    "## Ramicane_merge_df.head()\n",
    "## len(Ramicane_merge_df['Mouse ID']) == 25"
   ]
  },
  {
   "cell_type": "code",
   "execution_count": 164,
   "metadata": {},
   "outputs": [
    {
     "data": {
      "text/html": [
       "<div>\n",
       "<style scoped>\n",
       "    .dataframe tbody tr th:only-of-type {\n",
       "        vertical-align: middle;\n",
       "    }\n",
       "\n",
       "    .dataframe tbody tr th {\n",
       "        vertical-align: top;\n",
       "    }\n",
       "\n",
       "    .dataframe thead th {\n",
       "        text-align: right;\n",
       "    }\n",
       "</style>\n",
       "<table border=\"1\" class=\"dataframe\">\n",
       "  <thead>\n",
       "    <tr style=\"text-align: right;\">\n",
       "      <th></th>\n",
       "      <th>Mouse ID</th>\n",
       "      <th>Timepoint</th>\n",
       "    </tr>\n",
       "  </thead>\n",
       "  <tbody>\n",
       "    <tr>\n",
       "      <th>0</th>\n",
       "      <td>a411</td>\n",
       "      <td>45</td>\n",
       "    </tr>\n",
       "    <tr>\n",
       "      <th>1</th>\n",
       "      <td>a444</td>\n",
       "      <td>45</td>\n",
       "    </tr>\n",
       "    <tr>\n",
       "      <th>2</th>\n",
       "      <td>a520</td>\n",
       "      <td>45</td>\n",
       "    </tr>\n",
       "  </tbody>\n",
       "</table>\n",
       "</div>"
      ],
      "text/plain": [
       "  Mouse ID  Timepoint\n",
       "0     a411         45\n",
       "1     a444         45\n",
       "2     a520         45"
      ]
     },
     "execution_count": 164,
     "metadata": {},
     "output_type": "execute_result"
    }
   ],
   "source": [
    "Ramicane_last_timept_ser.head(3)"
   ]
  },
  {
   "cell_type": "code",
   "execution_count": 165,
   "metadata": {},
   "outputs": [
    {
     "name": "stdout",
     "output_type": "stream",
     "text": [
      "The lower quartile of Ramicane tumor volumes: 31.56046955\n",
      "The upper quartile of Ramicane tumor volumes: 40.65900627\n",
      "The interquartile range of Ramicane tumor volumes: 9.098536719999998\n",
      "The median of Ramicane tumors: 36.56165229 \n",
      "Values below 17.912664470000003 could be outliers.\n",
      "Values above 54.30681135 could be outliers.\n"
     ]
    }
   ],
   "source": [
    "# Drug 2 continued: Capomulin: Calculate the IQR and quantitatively determine if there are any potential outliers. \n",
    "# Determine outliers using upper and lower bounds\n",
    "Ramicane_tumor_vols = Ramicane_merge_df[\"Tumor Volume (mm3)\"]\n",
    "\n",
    "## Since the data is in a dataframe, use pandas to give quartile calculations\n",
    "quartiles = Ramicane_tumor_vols.quantile([.25,.5,.75])\n",
    "lowerq = quartiles[0.25]\n",
    "upperq = quartiles[0.75]\n",
    "iqr = upperq-lowerq\n",
    "\n",
    "print(f\"The lower quartile of Ramicane tumor volumes: {lowerq}\")\n",
    "print(f\"The upper quartile of Ramicane tumor volumes: {upperq}\")\n",
    "print(f\"The interquartile range of Ramicane tumor volumes: {iqr}\")\n",
    "print(f\"The median of Ramicane tumors: {quartiles[0.5]} \")\n",
    "\n",
    "lower_bound = lowerq - (1.5*iqr)\n",
    "upper_bound = upperq + (1.5*iqr)\n",
    "\n",
    "print(f\"Values below {lower_bound} could be outliers.\")\n",
    "print(f\"Values above {upper_bound} could be outliers.\")"
   ]
  },
  {
   "cell_type": "code",
   "execution_count": 166,
   "metadata": {},
   "outputs": [
    {
     "data": {
      "text/html": [
       "<div>\n",
       "<style scoped>\n",
       "    .dataframe tbody tr th:only-of-type {\n",
       "        vertical-align: middle;\n",
       "    }\n",
       "\n",
       "    .dataframe tbody tr th {\n",
       "        vertical-align: top;\n",
       "    }\n",
       "\n",
       "    .dataframe thead th {\n",
       "        text-align: right;\n",
       "    }\n",
       "</style>\n",
       "<table border=\"1\" class=\"dataframe\">\n",
       "  <thead>\n",
       "    <tr style=\"text-align: right;\">\n",
       "      <th></th>\n",
       "      <th>Mouse ID</th>\n",
       "      <th>Timepoint</th>\n",
       "      <th>Drug Regimen</th>\n",
       "      <th>Sex</th>\n",
       "      <th>Age_months</th>\n",
       "      <th>Weight (g)</th>\n",
       "      <th>Tumor Volume (mm3)</th>\n",
       "      <th>Metastatic Sites</th>\n",
       "    </tr>\n",
       "  </thead>\n",
       "  <tbody>\n",
       "  </tbody>\n",
       "</table>\n",
       "</div>"
      ],
      "text/plain": [
       "Empty DataFrame\n",
       "Columns: [Mouse ID, Timepoint, Drug Regimen, Sex, Age_months, Weight (g), Tumor Volume (mm3), Metastatic Sites]\n",
       "Index: []"
      ]
     },
     "execution_count": 166,
     "metadata": {},
     "output_type": "execute_result"
    }
   ],
   "source": [
    "# Drug 2 Ramicane: Continued -  Determine outliers using upper and lower bounds\n",
    "Ramicane_outlier = Capomulin_merge_df.loc[(Capomulin_merge_df['Tumor Volume (mm3)'] < lower_bound) | (Capomulin_merge_df['Tumor Volume (mm3)'] > upper_bound), :]\n",
    "Ramicane_outlier\n",
    "#print(f\"lower = {lower_bound}, upp = {upper_bound}\")"
   ]
  },
  {
   "cell_type": "code",
   "execution_count": 167,
   "metadata": {},
   "outputs": [],
   "source": [
    "## Drug 3: Infubinol\n",
    "# Start by getting the last (greatest) timepoint for each mouse\n",
    "\n",
    "Infubinol_last_timept_ser = Infubinol_df.groupby('Mouse ID')['Timepoint'].max()\n",
    "Infubinol_last_timept_ser = Infubinol_last_timept_ser.reset_index()\n",
    "Infubinol_last_timept_ser.head(3)\n",
    "## Create a df with Mouse ID and last Timepoints series\n",
    "Infubinol_mouseId_last_timept_df = pd.DataFrame(Infubinol_last_timept_ser)\n",
    "\n",
    "# Merge this group df with the original dataframe to get the tumor volume at the last timepoint\n",
    "Infubinol_merge_df = pd.merge(Infubinol_mouseId_last_timept_df, Combined_data, on=(\"Mouse ID\",\"Timepoint\"), how=\"left\")\n",
    "## Infubinol_merge_df.head()\n",
    "## len(Infubinol_merge_df['Mouse ID']) == 25"
   ]
  },
  {
   "cell_type": "code",
   "execution_count": 168,
   "metadata": {},
   "outputs": [
    {
     "name": "stdout",
     "output_type": "stream",
     "text": [
      "The lower quartile of Infubinol tumor volumes: 54.04860769\n",
      "The upper quartile of Infubinol tumor volumes: 65.52574285\n",
      "The interquartile range of Infubinol tumor volumes: 11.477135160000003\n",
      "The median of Infubinol tumors: 60.16518046 \n",
      "Values below 36.83290494999999 could be outliers.\n",
      "Values above 82.74144559000001 could be outliers.\n"
     ]
    }
   ],
   "source": [
    "# Drug 3 continued: Infubinol: Calculate the IQR and quantitatively determine if there are any potential outliers. \n",
    "# Determine outliers using upper and lower bounds\n",
    "Infubinol_tumor_vols = Infubinol_merge_df[\"Tumor Volume (mm3)\"]\n",
    "\n",
    "## Since the data is in a dataframe, use pandas to give quartile calculations\n",
    "quartiles = Infubinol_tumor_vols.quantile([.25,.5,.75])\n",
    "lowerq = quartiles[0.25]\n",
    "upperq = quartiles[0.75]\n",
    "iqr = upperq-lowerq\n",
    "\n",
    "print(f\"The lower quartile of Infubinol tumor volumes: {lowerq}\")\n",
    "print(f\"The upper quartile of Infubinol tumor volumes: {upperq}\")\n",
    "print(f\"The interquartile range of Infubinol tumor volumes: {iqr}\")\n",
    "print(f\"The median of Infubinol tumors: {quartiles[0.5]} \")\n",
    "\n",
    "lower_bound = lowerq - (1.5*iqr)\n",
    "upper_bound = upperq + (1.5*iqr)\n",
    "\n",
    "print(f\"Values below {lower_bound} could be outliers.\")\n",
    "print(f\"Values above {upper_bound} could be outliers.\")"
   ]
  },
  {
   "cell_type": "code",
   "execution_count": 169,
   "metadata": {},
   "outputs": [
    {
     "data": {
      "text/html": [
       "<div>\n",
       "<style scoped>\n",
       "    .dataframe tbody tr th:only-of-type {\n",
       "        vertical-align: middle;\n",
       "    }\n",
       "\n",
       "    .dataframe tbody tr th {\n",
       "        vertical-align: top;\n",
       "    }\n",
       "\n",
       "    .dataframe thead th {\n",
       "        text-align: right;\n",
       "    }\n",
       "</style>\n",
       "<table border=\"1\" class=\"dataframe\">\n",
       "  <thead>\n",
       "    <tr style=\"text-align: right;\">\n",
       "      <th></th>\n",
       "      <th>Mouse ID</th>\n",
       "      <th>Timepoint</th>\n",
       "      <th>Drug Regimen</th>\n",
       "      <th>Sex</th>\n",
       "      <th>Age_months</th>\n",
       "      <th>Weight (g)</th>\n",
       "      <th>Tumor Volume (mm3)</th>\n",
       "      <th>Metastatic Sites</th>\n",
       "    </tr>\n",
       "  </thead>\n",
       "  <tbody>\n",
       "    <tr>\n",
       "      <th>5</th>\n",
       "      <td>c326</td>\n",
       "      <td>5</td>\n",
       "      <td>Infubinol</td>\n",
       "      <td>Female</td>\n",
       "      <td>18</td>\n",
       "      <td>25</td>\n",
       "      <td>36.321346</td>\n",
       "      <td>0</td>\n",
       "    </tr>\n",
       "  </tbody>\n",
       "</table>\n",
       "</div>"
      ],
      "text/plain": [
       "  Mouse ID  Timepoint Drug Regimen     Sex  Age_months  Weight (g)  \\\n",
       "5     c326          5    Infubinol  Female          18          25   \n",
       "\n",
       "   Tumor Volume (mm3)  Metastatic Sites  \n",
       "5           36.321346                 0  "
      ]
     },
     "execution_count": 169,
     "metadata": {},
     "output_type": "execute_result"
    }
   ],
   "source": [
    "# Drug 3 Infubinol: Continued -  Determine outliers using upper and lower bounds\n",
    "Infubinol_outlier = Infubinol_merge_df.loc[(Infubinol_merge_df['Tumor Volume (mm3)'] < lower_bound) | (Infubinol_merge_df['Tumor Volume (mm3)'] > upper_bound), :]\n",
    "Infubinol_outlier\n",
    "##print(f\"lower = {lower_bound}, upp = {upper_bound}\")"
   ]
  },
  {
   "cell_type": "code",
   "execution_count": 170,
   "metadata": {},
   "outputs": [],
   "source": [
    "## Drug 4: Ceftamin\n",
    "# Start by getting the last (greatest) timepoint for each mouse\n",
    "Ceftamin_last_timept_ser = Ceftamin_df.groupby('Mouse ID')['Timepoint'].max()\n",
    "Ceftamin_last_timept_ser = Ceftamin_last_timept_ser.reset_index()\n",
    "Ceftamin_last_timept_ser.head(3)\n",
    "## Create a df with Mouse ID and last Timepoints series\n",
    "Ceftamin_mouseId_last_timept_df = pd.DataFrame(Ceftamin_last_timept_ser)\n",
    "\n",
    "# Merge this group df with the original dataframe to get the tumor volume at the last timepoint\n",
    "Ceftamin_merge_df = pd.merge(Ceftamin_mouseId_last_timept_df, Combined_data, on=(\"Mouse ID\",\"Timepoint\"), how=\"left\")\n",
    "# Ceftamin_merge_df.head()\n",
    "# len(Ceftamin_merge_df['Mouse ID']) == 25"
   ]
  },
  {
   "cell_type": "code",
   "execution_count": 171,
   "metadata": {},
   "outputs": [
    {
     "name": "stdout",
     "output_type": "stream",
     "text": [
      "The lower quartile of Ceftamin tumor volumes: 48.72207785\n",
      "The upper quartile of Ceftamin tumor volumes: 64.29983003\n",
      "The interquartile range of Ceftamin tumor volumes: 15.577752179999997\n",
      "The median of Ceftamin tumors: 59.85195552 \n",
      "Values below 25.355449580000002 could be outliers.\n",
      "Values above 87.66645829999999 could be outliers.\n"
     ]
    }
   ],
   "source": [
    "# Drug 4 continued: Ceftamin: Calculate the IQR and quantitatively determine if there are any potential outliers. \n",
    "# Determine outliers using upper and lower bounds\n",
    "Ceftamin_tumor_vols = Ceftamin_merge_df[\"Tumor Volume (mm3)\"]\n",
    "\n",
    "## Since the data is in a dataframe, use pandas to give quartile calculations\n",
    "quartiles = Ceftamin_tumor_vols.quantile([.25,.5,.75])\n",
    "lowerq = quartiles[0.25]\n",
    "upperq = quartiles[0.75]\n",
    "iqr = upperq-lowerq\n",
    "\n",
    "print(f\"The lower quartile of Ceftamin tumor volumes: {lowerq}\")\n",
    "print(f\"The upper quartile of Ceftamin tumor volumes: {upperq}\")\n",
    "print(f\"The interquartile range of Ceftamin tumor volumes: {iqr}\")\n",
    "print(f\"The median of Ceftamin tumors: {quartiles[0.5]} \")\n",
    "\n",
    "lower_bound = lowerq - (1.5*iqr)\n",
    "upper_bound = upperq + (1.5*iqr)\n",
    "\n",
    "print(f\"Values below {lower_bound} could be outliers.\")\n",
    "print(f\"Values above {upper_bound} could be outliers.\")"
   ]
  },
  {
   "cell_type": "code",
   "execution_count": 172,
   "metadata": {},
   "outputs": [
    {
     "data": {
      "text/html": [
       "<div>\n",
       "<style scoped>\n",
       "    .dataframe tbody tr th:only-of-type {\n",
       "        vertical-align: middle;\n",
       "    }\n",
       "\n",
       "    .dataframe tbody tr th {\n",
       "        vertical-align: top;\n",
       "    }\n",
       "\n",
       "    .dataframe thead th {\n",
       "        text-align: right;\n",
       "    }\n",
       "</style>\n",
       "<table border=\"1\" class=\"dataframe\">\n",
       "  <thead>\n",
       "    <tr style=\"text-align: right;\">\n",
       "      <th></th>\n",
       "      <th>Mouse ID</th>\n",
       "      <th>Timepoint</th>\n",
       "      <th>Drug Regimen</th>\n",
       "      <th>Sex</th>\n",
       "      <th>Age_months</th>\n",
       "      <th>Weight (g)</th>\n",
       "      <th>Tumor Volume (mm3)</th>\n",
       "      <th>Metastatic Sites</th>\n",
       "    </tr>\n",
       "  </thead>\n",
       "  <tbody>\n",
       "  </tbody>\n",
       "</table>\n",
       "</div>"
      ],
      "text/plain": [
       "Empty DataFrame\n",
       "Columns: [Mouse ID, Timepoint, Drug Regimen, Sex, Age_months, Weight (g), Tumor Volume (mm3), Metastatic Sites]\n",
       "Index: []"
      ]
     },
     "execution_count": 172,
     "metadata": {},
     "output_type": "execute_result"
    }
   ],
   "source": [
    "# Drug 4 Ceftamin: Continued -  Determine outliers using upper and lower bounds\n",
    "Ceftamin_outlier = Ceftamin_merge_df.loc[(Ceftamin_merge_df['Tumor Volume (mm3)'] < lower_bound) | (Ceftamin_merge_df['Tumor Volume (mm3)'] > upper_bound), :]\n",
    "Ceftamin_outlier\n",
    "##print(f\"lower = {lower_bound}, upp = {upper_bound}\")"
   ]
  },
  {
   "cell_type": "code",
   "execution_count": 173,
   "metadata": {},
   "outputs": [
    {
     "name": "stdout",
     "output_type": "stream",
     "text": [
      "Capomulin's potential outliers: Series([], Name: Tumor Volume (mm3), dtype: float64)\n",
      "Ramicane's potential outliers: Series([], Name: Tumor Volume (mm3), dtype: float64)\n",
      "Infubinol's potential outliers: 5    36.321346\n",
      "Name: Tumor Volume (mm3), dtype: float64\n",
      "Ceftamin's potential outliers: Series([], Name: Tumor Volume (mm3), dtype: float64)\n"
     ]
    }
   ],
   "source": [
    "## Print out a report for outliers in 4 regimens: \n",
    "print(f\"Capomulin's potential outliers: {Capomulin_outlier['Tumor Volume (mm3)']}\")\n",
    "print(f\"Ramicane's potential outliers: {Ramicane_outlier['Tumor Volume (mm3)']}\")\n",
    "print(f\"Infubinol's potential outliers: {Infubinol_outlier['Tumor Volume (mm3)']}\")\n",
    "print(f\"Ceftamin's potential outliers: {Ceftamin_outlier['Tumor Volume (mm3)']}\")"
   ]
  },
  {
   "cell_type": "code",
   "execution_count": null,
   "metadata": {},
   "outputs": [],
   "source": []
  },
  {
   "cell_type": "code",
   "execution_count": 174,
   "metadata": {},
   "outputs": [
    {
     "data": {
      "image/png": "[encoded data removed]",
      "text/plain": [
       "<matplotlib.figure.Figure at 0x1a11ed5eb8>"
      ]
     },
     "metadata": {},
     "output_type": "display_data"
    },
    {
     "data": {
      "text/plain": [
       "<matplotlib.figure.Figure at 0x10c9fdb38>"
      ]
     },
     "metadata": {},
     "output_type": "display_data"
    }
   ],
   "source": [
    "# Put treatments into a list for for loop (and later for plot labels)\n",
    "Regimen= ['Capomulin', 'Ramicane', 'Infubinol','Ceftamin']\n",
    "treatment_data_to_plot = [Capomulin_tumor_vols, Ramicane_tumor_vols, Infubinol_tumor_vols, Ceftamin_tumor_vols]\n",
    "\n",
    "fig1, ax1 = plt.subplots(figsize=(15, 10))\n",
    "\n",
    "ax1.set_title('Final Tumor Volume in Mice Across Four Regimens',fontsize =20)\n",
    "ax1.set_ylabel('Final Tumor Volume (mm3)',fontsize = 12)\n",
    "ax1.set_xlabel('Drug Regimen',fontsize = 12)\n",
    "ax1.boxplot(treatment_data_to_plot, labels=Regimen, widths = 0.4, patch_artist=True,vert=True, flierprops=dict(markerfacecolor = \"red\",markersize= 10))\n",
    "\n",
    "plt.ylim(10, 80)\n",
    "\n",
    "plt.show()\n",
    "plt.tight_layout()"
   ]
  },
  {
   "cell_type": "code",
   "execution_count": 175,
   "metadata": {},
   "outputs": [],
   "source": [
    "# Put treatments into a list for for loop (and later for plot labels)\n",
    "\n",
    "\n",
    "# Create empty list to fill with tumor vol data (for plotting)\n",
    "\n",
    "\n",
    "# Calculate the IQR and quantitatively determine if there are any potential outliers. \n",
    "\n",
    "    \n",
    "    # Locate the rows which contain mice on each drug and get the tumor volumes\n",
    "   \n",
    "    \n",
    "    # add subset \n",
    "   \n",
    "    \n",
    "    # Determine outliers using upper and lower bounds\n",
    " "
   ]
  },
  {
   "cell_type": "code",
   "execution_count": 70,
   "metadata": {},
   "outputs": [],
   "source": [
    "# Generate a box plot of the final tumor volume of each mouse across four regimens of interest\n"
   ]
  },
  {
   "cell_type": "markdown",
   "metadata": {},
   "source": [
    "## Line and Scatter Plots"
   ]
  },
  {
   "cell_type": "code",
   "execution_count": 176,
   "metadata": {},
   "outputs": [
    {
     "data": {
      "image/png": "[encoded data removed]",
      "text/plain": [
       "<matplotlib.figure.Figure at 0x1a12ff54a8>"
      ]
     },
     "metadata": {},
     "output_type": "display_data"
    }
   ],
   "source": [
    "# Generate a line plot of tumor volume vs. time point for a mouse treated with Capomulin\n",
    "#generate a subset dataframe containing only one mouse ID data from regimen dataframe by locating with ID\n",
    "Capomulin_mouse_l509_df = Capomulin_df.loc[Capomulin_df[\"Mouse ID\"] == \"l509\",:]\n",
    "Capomulin_mouse_l509_df.head(3)\n",
    "\n",
    "x_axis = Capomulin_mouse_l509_df[\"Timepoint\"]\n",
    "tumor_vol = Capomulin_mouse_l509_df[\"Tumor Volume (mm3)\"]\n",
    "\n",
    "fig1, ax1 = plt.subplots(figsize=(7, 5))\n",
    "plt.title('Capomulin Treatmeant of Mouse l509',fontsize =15)\n",
    "plt.plot(x_axis, tumor_vol,linewidth=2, markersize=0, marker=\"o\",color=\"blue\")\n",
    "plt.xlabel('Timepoint (Days)',fontsize =12)\n",
    "plt.ylabel('Tumor Volume (mm3)',fontsize =12)\n",
    "\n",
    "## Note: Comment out the plt.show() will remove the \"Figure size description\"\n",
    "\n",
    "plt.tight_layout()\n",
    "plt.show()\n",
    "\n"
   ]
  },
  {
   "cell_type": "code",
   "execution_count": 130,
   "metadata": {},
   "outputs": [
    {
     "data": {
      "image/png": "[encoded data removed]",
      "text/plain": [
       "<matplotlib.figure.Figure at 0x1a13534080>"
      ]
     },
     "metadata": {},
     "output_type": "display_data"
    }
   ],
   "source": [
    "# Generate a scatter plot of average tumor volume vs. mouse weight for the Capomulin regimen\n",
    "Capomulin_avg_tumor_vol = Capomulin_df.groupby(['Mouse ID']).mean()\n",
    "Capomulin_avg_tumor_vol.head(3)\n",
    "\n",
    "fig1, ax1 = plt.subplots(figsize=(10, 6))\n",
    "plt.scatter(Capomulin_avg_tumor_vol['Weight (g)'], Capomulin_avg_tumor_vol['Tumor Volume (mm3)'], s=80, color=\"blue\")\n",
    "\n",
    "plt.title('Capomulin: Average Tumor Volume vs. Mouse Weight',fontsize =15)\n",
    "plt.xlabel('Weight (g)',fontsize=12)\n",
    "plt.ylabel('Averag Tumor Volume (mm3)',fontsize=12)\n",
    "\n",
    "plt.tight_layout()\n",
    "plt.show()"
   ]
  },
  {
   "cell_type": "markdown",
   "metadata": {},
   "source": [
    "## Correlation and Regression"
   ]
  },
  {
   "cell_type": "code",
   "execution_count": 73,
   "metadata": {},
   "outputs": [
    {
     "name": "stdout",
     "output_type": "stream",
     "text": [
      "The correlation between mouse weight and the average tumor volume is 0.84\n"
     ]
    }
   ],
   "source": [
    "# Calculate the correlation coefficient and linear regression model \n",
    "# for mouse weight and average tumor volume for the Capomulin regimen\n",
    "weight_vol_corr = round(st.pearsonr(Capomulin_avg_tumor_vol['Weight (g)'], Capomulin_avg_tumor_vol['Tumor Volume (mm3)'])[0],2)\n",
    "print(f\"The correlation between mouse weight and the average tumor volume is {weight_vol_corr}\")"
   ]
  },
  {
   "cell_type": "code",
   "execution_count": 74,
   "metadata": {},
   "outputs": [
    {
     "data": {
      "image/png": "[encoded data removed]",
      "text/plain": [
       "<matplotlib.figure.Figure at 0x1a1366d400>"
      ]
     },
     "metadata": {},
     "output_type": "display_data"
    }
   ],
   "source": [
    " # Add the linear regression equation and line to plot\n",
    "fig1, ax1 = plt.subplots(figsize=(7, 5))\n",
    "\n",
    "x_values = Capomulin_avg_tumor_vol['Weight (g)']\n",
    "y_values = Capomulin_avg_tumor_vol['Tumor Volume (mm3)']\n",
    "\n",
    "## Calculate the line y = kx + b\n",
    "(slope, intercept, rvalue, pvalue, stderr) = linregress(x_values, y_values)\n",
    "regress_values = x_values * slope + intercept\n",
    "line_eq = \"y = \" + str(round(slope,2)) + \"x + \" + str(round(intercept,2))\n",
    "\n",
    "## Plot the scatter plot with regression line\n",
    "plt.scatter(x_values, y_values)\n",
    "plt.plot(x_values, regress_values, \"r-\")\n",
    "\n",
    "## print the regression line\n",
    "plt.annotate(line_eq, (6,10), fontsize=15, color=\"red\")\n",
    "\n",
    "## print the equation on the plot\n",
    "ax1.annotate(line_eq, xy=(20, 40), xycoords='data',xytext=(0.8, 0.95), textcoords='axes fraction',horizontalalignment='right', verticalalignment='top',fontsize=15,color=\"red\")\n",
    "\n",
    "plt.title('Mouse Weight vs Average Tumor Volume with Regression',fontsize =15)\n",
    "plt.xlabel('Weight (g)')\n",
    "plt.ylabel('Average Tumor Volume (mm3)')\n",
    "plt.tight_layout();\n",
    "plt.show()\n",
    "\n",
    "\n",
    "# print(f\"The r-squared value is: {rvalue**2}\")"
   ]
  },
  {
   "cell_type": "code",
   "execution_count": null,
   "metadata": {},
   "outputs": [],
   "source": [
    "# Observation\n",
    "#Both Capomulin and Ramicane are effective in reducing tumor volumes with Capomulin slightly better\n",
    "#There is a strong correlation between mouse body weight and the average tumor volume in Capomulin treated mice, suggesting body weight need to be factored in evaluating the effectiveness of drug regimen.\n",
    "#For mouse ID 1509, there is a clear timepoint dependent reduction of tumor volume, showing the effectiveness of Capomulin at least in this mice.\n",
    "# There is an outlier in Infubinol-treated mice which is significantly smaller than average tumor volume\n"
   ]
  }
 ],
 "metadata": {
  "anaconda-cloud": {},
  "kernelspec": {
   "display_name": "Python 3",
   "language": "python",
   "name": "python3"
  },
  "language_info": {
   "codemirror_mode": {
    "name": "ipython",
    "version": 3
   },
   "file_extension": ".py",
   "mimetype": "text/x-python",
   "name": "python",
   "nbconvert_exporter": "python",
   "pygments_lexer": "ipython3",
   "version": "3.6.4"
  }
 },
 "nbformat": 4,
 "nbformat_minor": 4
}
